{
 "cells": [
  {
   "cell_type": "code",
   "execution_count": 64,
   "metadata": {},
   "outputs": [],
   "source": [
    "import spacy\n",
    "\n",
    "spacy.prefer_gpu()\n",
    "nlp = spacy.load('en_core_web_sm')\n",
    "doc = nlp(u'This is a sentence.')\n",
    "\n"
   ]
  },
  {
   "cell_type": "code",
   "execution_count": 114,
   "metadata": {},
   "outputs": [
    {
     "data": {
      "text/plain": [
       "0.9373760248450002"
      ]
     },
     "execution_count": 114,
     "metadata": {},
     "output_type": "execute_result"
    }
   ],
   "source": [
    "doc1 = nlp(u\"evaluation frameworks indicators governance project preparation smart cities data urban analysis urban planning materials urban policy technology education action plan social integration land use planning principles academia design regulations\")\n",
    "doc2 = nlp(u\"waste high buildings systems business businesses recycle recycling density building management ideas household hard rubbish residents\")\n",
    "doc3 = nlp(u\"green public urban design spaces athens civic tree trees businesses business innovative community natural research nature based benefits environmental active citizens engagement technological technologies technology maintenance holistic wasted air indicators pedestrian nformation activities challenge challenges cities resilient city resilience planning change\")  \n",
    "doc1.similarity(doc2)\n",
    "#print doc1.lemma_\n"
   ]
  },
  {
   "cell_type": "code",
   "execution_count": 115,
   "metadata": {},
   "outputs": [
    {
     "name": "stdout",
     "output_type": "stream",
     "text": [
      "(u'evaluation', u'community', 0.7101826)\n",
      "(u'evaluation', u'research', 0.7236516)\n",
      "(u'evaluation', u'air', 0.7066378)\n",
      "(u'evaluation', u'city', 0.7228929)\n",
      "(u'indicators', u'indicators', 1.0)\n",
      "(u'indicators', u'activities', 0.7137635)\n",
      "(u'governance', u'challenge', 0.7184697)\n",
      "(u'project', u'community', 0.7147365)\n",
      "(u'project', u'research', 0.74338037)\n",
      "(u'project', u'nformation', 0.71879554)\n",
      "(u'project', u'city', 0.72000617)\n",
      "(u'project', u'resilience', 0.79054445)\n",
      "(u'preparation', u'business', 0.72302634)\n",
      "(u'preparation', u'community', 0.78160536)\n",
      "(u'preparation', u'research', 0.73751885)\n",
      "(u'preparation', u'nature', 0.7092375)\n",
      "(u'preparation', u'maintenance', 0.73645663)\n",
      "(u'smart', u'natural', 0.71244866)\n",
      "(u'smart', u'technological', 0.7264575)\n",
      "(u'cities', u'citizens', 0.7090704)\n",
      "(u'cities', u'cities', 1.0)\n",
      "(u'urban', u'urban', 1.0)\n",
      "(u'urban', u'technological', 0.70178974)\n",
      "(u'analysis', u'community', 0.70185995)\n",
      "(u'urban', u'urban', 1.0)\n",
      "(u'urban', u'innovative', 0.7237106)\n",
      "(u'urban', u'natural', 0.7239671)\n",
      "(u'urban', u'technological', 0.7323584)\n",
      "(u'planning', u'design', 0.7098011)\n",
      "(u'planning', u'planning', 1.0)\n",
      "(u'urban', u'urban', 1.0)\n",
      "(u'urban', u'innovative', 0.71067697)\n",
      "(u'urban', u'natural', 0.71502036)\n",
      "(u'policy', u'design', 0.780475)\n",
      "(u'policy', u'community', 0.7387953)\n",
      "(u'policy', u'research', 0.8414346)\n",
      "(u'policy', u'nformation', 0.72581816)\n",
      "(u'policy', u'city', 0.76404434)\n",
      "(u'policy', u'planning', 0.71687347)\n",
      "(u'technology', u'research', 0.7738311)\n",
      "(u'technology', u'nature', 0.73553336)\n",
      "(u'technology', u'technology', 1.0)\n",
      "(u'technology', u'nformation', 0.73170304)\n",
      "(u'technology', u'city', 0.7290971)\n",
      "(u'education', u'research', 0.73818266)\n",
      "(u'education', u'nature', 0.7190133)\n",
      "(u'education', u'technology', 0.71698904)\n",
      "(u'education', u'maintenance', 0.7457484)\n",
      "(u'education', u'city', 0.7278525)\n",
      "(u'education', u'resilience', 0.7579162)\n",
      "(u'action', u'research', 0.73545265)\n",
      "(u'action', u'city', 0.7435479)\n",
      "(u'plan', u'maintenance', 0.7080212)\n",
      "(u'social', u'innovative', 0.77382475)\n",
      "(u'social', u'natural', 0.7332888)\n",
      "(u'integration', u'design', 0.7473199)\n",
      "(u'integration', u'research', 0.71351606)\n",
      "(u'integration', u'nformation', 0.74587256)\n",
      "(u'integration', u'resilience', 0.70460635)\n",
      "(u'land', u'research', 0.7406261)\n",
      "(u'land', u'city', 0.74955225)\n",
      "(u'use', u'research', 0.71094614)\n",
      "(u'use', u'resilience', 0.74758255)\n",
      "(u'planning', u'planning', 1.0)\n",
      "(u'principles', u'spaces', 0.71672916)\n",
      "(u'principles', u'citizens', 0.7325086)\n",
      "(u'design', u'design', 1.0)\n",
      "(u'design', u'research', 0.7285333)\n",
      "(u'design', u'nformation', 0.7534429)\n",
      "(u'design', u'city', 0.7245657)\n",
      "(u'design', u'resilience', 0.73658204)\n",
      "(u'regulations', u'spaces', 0.7397904)\n",
      "(u'regulations', u'citizens', 0.7013001)\n",
      "(u'regulations', u'activities', 0.7119633)\n"
     ]
    }
   ],
   "source": [
    "for token1 in doc1:\n",
    "    for token2 in doc3:\n",
    "        if (token1.similarity(token2)>0.7):\n",
    "            print(token1.text, token2.text, token1.similarity(token2))"
   ]
  },
  {
   "cell_type": "code",
   "execution_count": 56,
   "metadata": {},
   "outputs": [
    {
     "data": {
      "text/plain": [
       "0.28231333902714"
      ]
     },
     "execution_count": 56,
     "metadata": {},
     "output_type": "execute_result"
    }
   ],
   "source": [
    "doc2.similarity(doc1)\n"
   ]
  },
  {
   "cell_type": "code",
   "execution_count": 88,
   "metadata": {},
   "outputs": [
    {
     "name": "stdout",
     "output_type": "stream",
     "text": [
      "(u'land', u'land', u'NOUN', u'NN', u'compound', u'xxxx', True, False)\n",
      "(u'use', u'use', u'NOUN', u'NN', u'ROOT', u'xxx', True, False)\n"
     ]
    }
   ],
   "source": [
    "for token in doc1:\n",
    "    print(token.text, token.lemma_, token.pos_, token.tag_, token.dep_,\n",
    "          token.shape_, token.is_alpha, token.is_stop)"
   ]
  },
  {
   "cell_type": "code",
   "execution_count": 81,
   "metadata": {},
   "outputs": [
    {
     "name": "stdout",
     "output_type": "stream",
     "text": [
      "(u'bike', u'bike', u'NOUN', u'NN', u'ROOT', u'xxxx', True, False)\n"
     ]
    }
   ],
   "source": [
    "for token in doc2:\n",
    "    print(token.text, token.lemma_, token.pos_, token.tag_, token.dep_,\n",
    "          token.shape_, token.is_alpha, token.is_stop)"
   ]
  },
  {
   "cell_type": "code",
   "execution_count": 90,
   "metadata": {},
   "outputs": [
    {
     "name": "stdout",
     "output_type": "stream",
     "text": [
      "(u'land', u'energy', 0.7256897)\n",
      "(u'land', u'management', 0.37083268)\n",
      "(u'use', u'energy', 0.4658005)\n",
      "(u'use', u'management', 0.68703187)\n"
     ]
    }
   ],
   "source": []
  },
  {
   "cell_type": "code",
   "execution_count": null,
   "metadata": {},
   "outputs": [],
   "source": []
  }
 ],
 "metadata": {
  "kernelspec": {
   "display_name": "Python 2",
   "language": "python",
   "name": "python2"
  },
  "language_info": {
   "codemirror_mode": {
    "name": "ipython",
    "version": 2
   },
   "file_extension": ".py",
   "mimetype": "text/x-python",
   "name": "python",
   "nbconvert_exporter": "python",
   "pygments_lexer": "ipython2",
   "version": "2.7.15"
  }
 },
 "nbformat": 4,
 "nbformat_minor": 2
}
