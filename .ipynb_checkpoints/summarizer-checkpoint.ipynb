{
 "cells": [
  {
   "cell_type": "code",
   "execution_count": 1,
   "metadata": {},
   "outputs": [],
   "source": [
    "import spacy\n",
    "\n",
    "spacy.prefer_gpu()\n",
    "nlp = spacy.load('en_core_web_sm')\n",
    "doc = nlp(u'This is a sentence.')\n",
    "\n"
   ]
  },
  {
   "cell_type": "code",
   "execution_count": 1,
   "metadata": {},
   "outputs": [],
   "source": [
    "import spacy\n",
    "\n",
    "spacy.prefer_gpu()\n",
    "nlp = spacy.load('en_core_web_sm')\n",
    "doc = nlp(u'This is a sentence.')\n",
    "\n"
   ]
  },
  {
   "cell_type": "code",
   "execution_count": 6,
   "metadata": {},
   "outputs": [
    {
     "data": {
      "text/plain": [
       "0.9467716333548573"
      ]
     },
     "execution_count": 6,
     "metadata": {},
     "output_type": "execute_result"
    }
   ],
   "source": [
    "doc1 = nlp(u\"evaluation frameworks indicators governance project preparation smart cities data urban analysis urban planning materials urban policy technology education action plan social integration land use planning principles academia design regulations\")\n",
    "doc3 = nlp(u\"waste high buildings systems business businesses recycle recycling density building management ideas household hard rubbish residents\")\n",
    "doc2 = nlp(u\"green public urban design spaces athens civic tree trees businesses business innovative community natural research nature based benefits environmental active citizens engagement technological technologies technology maintenance holistic wasted air indicators pedestrian nformation activities challenge challenges cities resilient city resilience planning change\")  \n",
    "doc1.similarity(doc2)\n",
    "#print doc1.lemma_\n"
   ]
  },
  {
   "cell_type": "code",
   "execution_count": 7,
   "metadata": {},
   "outputs": [
    {
     "name": "stdout",
     "output_type": "stream",
     "text": [
      "(u'indicators', u'businesses', 0.7446437)\n",
      "(u'project', u'density', 0.70552415)\n",
      "(u'planning', u'recycling', 0.71533877)\n",
      "(u'planning', u'building', 0.7348352)\n",
      "(u'policy', u'recycling', 0.71129906)\n",
      "(u'policy', u'density', 0.793335)\n",
      "(u'policy', u'building', 0.71893585)\n",
      "(u'policy', u'management', 0.73190284)\n",
      "(u'technology', u'density', 0.7865509)\n",
      "(u'technology', u'management', 0.74792975)\n",
      "(u'education', u'management', 0.7084958)\n",
      "(u'planning', u'recycling', 0.7297373)\n",
      "(u'planning', u'building', 0.79991794)\n",
      "(u'planning', u'management', 0.7029629)\n",
      "(u'principles', u'businesses', 0.72735566)\n",
      "(u'principles', u'ideas', 0.74568105)\n",
      "(u'design', u'density', 0.73757684)\n",
      "(u'design', u'management', 0.70519644)\n",
      "(u'regulations', u'residents', 0.8210275)\n"
     ]
    }
   ],
   "source": [
    "for token1 in doc1:\n",
    "    for token2 in doc3:\n",
    "        if (token1.similarity(token2)>0.7):\n",
    "            print(token1.text, token2.text, token1.similarity(token2))"
   ]
  },
  {
   "cell_type": "code",
   "execution_count": 56,
   "metadata": {},
   "outputs": [
    {
     "data": {
      "text/plain": [
       "0.28231333902714"
      ]
     },
     "execution_count": 56,
     "metadata": {},
     "output_type": "execute_result"
    }
   ],
   "source": [
    "doc2.similarity(doc1)\n"
   ]
  },
  {
   "cell_type": "code",
   "execution_count": 88,
   "metadata": {},
   "outputs": [
    {
     "name": "stdout",
     "output_type": "stream",
     "text": [
      "(u'land', u'land', u'NOUN', u'NN', u'compound', u'xxxx', True, False)\n",
      "(u'use', u'use', u'NOUN', u'NN', u'ROOT', u'xxx', True, False)\n"
     ]
    }
   ],
   "source": [
    "for token in doc1:\n",
    "    print(token.text, token.lemma_, token.pos_, token.tag_, token.dep_,\n",
    "          token.shape_, token.is_alpha, token.is_stop)"
   ]
  },
  {
   "cell_type": "code",
   "execution_count": 81,
   "metadata": {},
   "outputs": [
    {
     "name": "stdout",
     "output_type": "stream",
     "text": [
      "(u'bike', u'bike', u'NOUN', u'NN', u'ROOT', u'xxxx', True, False)\n"
     ]
    }
   ],
   "source": [
    "for token in doc2:\n",
    "    print(token.text, token.lemma_, token.pos_, token.tag_, token.dep_,\n",
    "          token.shape_, token.is_alpha, token.is_stop)"
   ]
  },
  {
   "cell_type": "code",
   "execution_count": 90,
   "metadata": {},
   "outputs": [
    {
     "name": "stdout",
     "output_type": "stream",
     "text": [
      "(u'land', u'energy', 0.7256897)\n",
      "(u'land', u'management', 0.37083268)\n",
      "(u'use', u'energy', 0.4658005)\n",
      "(u'use', u'management', 0.68703187)\n"
     ]
    }
   ],
   "source": []
  },
  {
   "cell_type": "code",
   "execution_count": null,
   "metadata": {},
   "outputs": [],
   "source": []
  }
 ],
 "metadata": {
  "kernelspec": {
   "display_name": "Python 2",
   "language": "python",
   "name": "python2"
  },
  "language_info": {
   "codemirror_mode": {
    "name": "ipython",
    "version": 3
   },
   "file_extension": ".py",
   "mimetype": "text/x-python",
   "name": "python",
   "nbconvert_exporter": "python",
   "pygments_lexer": "ipython3",
   "version": "3.7.0"
  }
 },
 "nbformat": 4,
 "nbformat_minor": 2
}
