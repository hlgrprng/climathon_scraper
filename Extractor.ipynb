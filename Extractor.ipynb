{
 "cells": [
  {
   "cell_type": "code",
   "execution_count": 11,
   "metadata": {},
   "outputs": [],
   "source": [
    "from bs4 import BeautifulSoup\n",
    "from bs4 import Comment\n",
    "import urllib3\n",
    "import requests\n",
    "import csv\n",
    "import re\n",
    "import codecs\n",
    "\n",
    "from datetime import datetime\n",
    "import os"
   ]
  },
  {
   "cell_type": "code",
   "execution_count": 16,
   "metadata": {},
   "outputs": [
    {
     "name": "stdout",
     "output_type": "stream",
     "text": [
      "2018103012\n"
     ]
    }
   ],
   "source": [
    "today = datetime.now()\n",
    "\n",
    "if today.hour < 12:\n",
    "    h = \"00\"\n",
    "else:\n",
    "    h = \"12\"\n",
    "    \n",
    "\n",
    "#os.mkdir(today.strftime('%Y%m%d')+ h)\n",
    "folder = today.strftime('%Y%m%d')+ h\n",
    "print(folder)"
   ]
  },
  {
   "cell_type": "code",
   "execution_count": 18,
   "metadata": {},
   "outputs": [
    {
     "name": "stdout",
     "output_type": "stream",
     "text": [
      "2018103012/cities.csv\n",
      "2018103012/challenges.csv\n"
     ]
    }
   ],
   "source": [
    "number = \"1\"\n",
    "url = \"https://climathon.climate-kic.org/en/\"\n",
    "url2 = \"https://climathon.climate-kic.org\"\n",
    "file_cities = folder + \"/cities.csv\"\n",
    "file_challenges = folder + \"/challenges.csv\"\n",
    "print(file_cities)\n",
    "print(file_challenges)"
   ]
  },
  {
   "cell_type": "code",
   "execution_count": 19,
   "metadata": {},
   "outputs": [
    {
     "ename": "SyntaxError",
     "evalue": "Missing parentheses in call to 'print'. Did you mean print(load_city)? (<ipython-input-19-dc3876564860>, line 12)",
     "output_type": "error",
     "traceback": [
      "\u001b[1;36m  File \u001b[1;32m\"<ipython-input-19-dc3876564860>\"\u001b[1;36m, line \u001b[1;32m12\u001b[0m\n\u001b[1;33m    print load_city\u001b[0m\n\u001b[1;37m                  ^\u001b[0m\n\u001b[1;31mSyntaxError\u001b[0m\u001b[1;31m:\u001b[0m Missing parentheses in call to 'print'. Did you mean print(load_city)?\n"
     ]
    }
   ],
   "source": [
    "with open( file_challenges, 'wb') as csvfile:\n",
    "    challengewriter = csv.writer(csvfile, delimiter=';',\n",
    "                            quotechar='\"', quoting=csv.QUOTE_MINIMAL)\n",
    "    challengewriter.writerow(['id', 'city', 'title', 'question', 'theme', 'challenge_text_main', 'challenge_url'])\n",
    "    with open( file_cities, 'rb') as csvfile:\n",
    "\n",
    "        cities = csv.reader(csvfile, delimiter=';', quotechar='\"')\n",
    "        for row in cities:\n",
    "            #print ', '.join(row)\n",
    "            cityid = url.join(row)\n",
    "            load_city = url + cityid\n",
    "            print load_city\n",
    "\n",
    "            soup_cities = urllib3.urlopen(load_city).read()\n",
    "            #Html_file= open(\"cities/\" + cityid + \".html\",\"w\")\n",
    "            #Html_file.write(soup_cities)\n",
    "            #Html_file.close()\n",
    "\n",
    "            #soup = BeautifulSoup(soup_cities,\"html.parser\")\n",
    "            soup = BeautifulSoup(open('cities/' + cityid + '.html'),\"html.parser\")\n",
    "            #soup = BeautifulSoup(open('cities/toledo.html'),\"html.parser\")\n",
    "            [x.extract() for x in soup.find_all('div',{'class':'tab-pane fade'})]\n",
    "            [x.extract() for x in soup.find_all('div',{'class':'mod-aesir-item mod-aesir-item-default'})]\n",
    "\n",
    "            title = soup.find_all('h1',attrs={'class':'title'})\n",
    "            print title[0].text\n",
    "            city = title[0].text.encode('utf-8')\n",
    "\n",
    "            n = 0\n",
    "            data = soup.findAll('div',attrs={'class':'text'})\n",
    "            for div in data:\n",
    "                links = div.findAll('a')\n",
    "                for a in links:\n",
    "                    n += 1\n",
    "                    link = url2 + a['href']\n",
    "\n",
    "                    theme = re.sub(r'/en/challenges/', '', a['href'])\n",
    "                    theme = theme.split('/', 1)[0]\n",
    "                    #print theme\n",
    "                    challenge_description = \"\"\n",
    "                    #soup_challenge = BeautifulSoup(open('challenge.html'),\"html.parser\")\n",
    "                    soup_challenge_text = urllib2.urlopen(link).read()\n",
    "                    soup_challenge = BeautifulSoup(soup_challenge_text,\"html.parser\")\n",
    "                    #soup_challenge = BeautifulSoup(open(link),\"html.parser\")\n",
    "                    challenge_id = cityid+\"0\"+str(n)\n",
    "                    print n\n",
    "                    print challenge_id\n",
    "                    challenge_id = challenge_id.encode('utf-8')\n",
    "\n",
    "                    Html_file= open(\"challenges/\" + challenge_id + \".html\",\"w\")\n",
    "                    Html_file.write(soup_challenge_text)\n",
    "                    Html_file.close()\n",
    "\n",
    "                    challenge_title = soup_challenge.find_all('h1',attrs={'class':'title'})\n",
    "                    title = \"\"\n",
    "                    try:\n",
    "                        title = challenge_title[0].text.encode('utf-8')\n",
    "                    except:\n",
    "                        print \"No title!\"\n",
    "                    print title\n",
    "                    intro_text = soup_challenge.find_all('div',attrs={'class':'introText'})\n",
    "                    question = intro_text[0].h3.text.encode('utf-8')\n",
    "                    if title == \"\":\n",
    "                        title = question\n",
    "                    intro_text = intro_text[0].p.text.encode('utf-8')\n",
    "                    [x.extract() for x in soup_challenge.find_all('h3')]\n",
    "                    description = soup_challenge.find_all('div',attrs={'class':'description'})\n",
    "                    for each in description:\n",
    "                        print each.getText()\n",
    "                        challenge_description += each.getText() + \" \"\n",
    "                    challenge_description = re.sub(r'[\\t\\r\\n]', ' ', challenge_description)\n",
    "                    challenge_description = re.sub('  ', ' ', challenge_description)\n",
    "                    challenge_description = challenge_description.encode('utf-8')\n",
    "                    challenge_description = intro_text + \" \" + challenge_description\n",
    "\n",
    "                    challengewriter.writerow([challenge_id, city, title, question, theme, challenge_description, link])"
   ]
  },
  {
   "cell_type": "code",
   "execution_count": null,
   "metadata": {},
   "outputs": [],
   "source": []
  }
 ],
 "metadata": {
  "kernelspec": {
   "display_name": "Python 3",
   "language": "python",
   "name": "python3"
  },
  "language_info": {
   "codemirror_mode": {
    "name": "ipython",
    "version": 3
   },
   "file_extension": ".py",
   "mimetype": "text/x-python",
   "name": "python",
   "nbconvert_exporter": "python",
   "pygments_lexer": "ipython3",
   "version": "3.7.0"
  }
 },
 "nbformat": 4,
 "nbformat_minor": 2
}
